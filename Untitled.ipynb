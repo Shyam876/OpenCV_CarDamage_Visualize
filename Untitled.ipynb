{
 "cells": [
  {
   "cell_type": "code",
   "execution_count": 85,
   "id": "6c81018e",
   "metadata": {},
   "outputs": [],
   "source": [
    "import numpy as np\n",
    "import cv2\n",
    "import matplotlib.pyplot as plt\n",
    "import json\n",
    "\n",
    "%matplotlib qt\n",
    "\n",
    "image = cv2.imread('images/5.jpg')\n",
    "image = cv2.cvtColor(car_image, cv2.COLOR_BGR2RGB)"
   ]
  },
  {
   "cell_type": "code",
   "execution_count": 86,
   "id": "d330930a",
   "metadata": {},
   "outputs": [],
   "source": [
    "car_image = image\n",
    "\n",
    "red = (255, 0, 0)\n",
    "\n",
    "f = open(\"data/5.json\")\n",
    "data = json.load(f)\n",
    "\n",
    "#to add coordinate points\n",
    "values = []\n",
    "\n",
    "for dicts in data:\n",
    "    if(\"points\" in dicts[\"value\"]):\n",
    "        values.append(dicts[\"value\"][\"points\"])\n",
    "        \n",
    "#to create the polygon shape on black background and then fit on to image with specified transperancy\n",
    "shape = np.zeros(car_image.shape, np.uint8)\n",
    "\n",
    "for value in values:\n",
    "    #for rectangle arround polygon after drawing them\n",
    "    height, width, _ = car_image.shape\n",
    "    min_x, min_y = width, height\n",
    "    max_x = max_y = 0\n",
    "    i = 0\n",
    "    \n",
    "    for points in value:\n",
    "        #conversion from normalized xy coordinates to original xy coordinates\n",
    "        points[0] = (points[0]*width)/100\n",
    "        points[1] = (points[1]*height)/100\n",
    "        min_x,max_x = min(min_x, points[0]),max(max_x, points[0]) \n",
    "        min_y,max_y = min(min_y, points[1]),max(max_y, points[1]) \n",
    "    \n",
    "    isClosed = False\n",
    "    \n",
    "    color = list(np.random.choice(range(256), size=3))\n",
    "    r = np.random.choice(range(256))\n",
    "    g = np.random.choice(range(256))\n",
    "    b = np.random.choice(range(256))\n",
    "    #cv2.fillPoly(shape, np.int32([value]), color =(int(r),int(g),200)) #creates a polygon Shape\n",
    "    #cv2.polylines(car_image, np.int32([value]), isClosed,(int(r),int(g),255))\n",
    "    #cv2.rectangle(car_image, (int(min_x), int(min_y)), (int(max_x), int(max_y)), (int(r), 255, int(b))) #adds rectangle around polygon\n",
    "    #out = cv2.addWeighted(car_image, 1.0, shape, 0.30, 1)#adds shape and image\n",
    "    #cv2.putText(car_image, str(labels[i]), (int(min_x), int(min_y+10)), cv2.FONT_HERSHEY_SIMPLEX, 0.1, (36,255,12))\n",
    "    i = i+1\n",
    "\n",
    "    \n",
    "plt.imshow(out)\n",
    "out_img = cv2.cvtColor(out, cv2.COLOR_RGB2BGR) #converting from BGR to RGB to write image to local storage\n",
    "cv2.imwrite('newCar.jpg', out_img)\n",
    "out_img = out = np.copy(image)\n",
    "cv2.destroyAllWindows()"
   ]
  },
  {
   "cell_type": "code",
   "execution_count": null,
   "id": "e9859fca",
   "metadata": {},
   "outputs": [],
   "source": []
  },
  {
   "cell_type": "code",
   "execution_count": null,
   "id": "68996e92",
   "metadata": {},
   "outputs": [],
   "source": []
  }
 ],
 "metadata": {
  "kernelspec": {
   "display_name": "Python 3",
   "language": "python",
   "name": "python3"
  },
  "language_info": {
   "codemirror_mode": {
    "name": "ipython",
    "version": 3
   },
   "file_extension": ".py",
   "mimetype": "text/x-python",
   "name": "python",
   "nbconvert_exporter": "python",
   "pygments_lexer": "ipython3",
   "version": "3.8.8"
  }
 },
 "nbformat": 4,
 "nbformat_minor": 5
}
